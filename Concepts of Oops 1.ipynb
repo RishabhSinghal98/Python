{
 "cells": [
  {
   "cell_type": "markdown",
   "id": "76ba6470-c859-4783-9ae1-a86da16d998d",
   "metadata": {},
   "source": [
    "#### 1. Class and Object with respect to Object-Oriented Programming. With a suitable example."
   ]
  },
  {
   "cell_type": "code",
   "execution_count": 3,
   "id": "a528c05b-40a8-4ad1-9829-28b0d62dd207",
   "metadata": {},
   "outputs": [
    {
     "name": "stdout",
     "output_type": "stream",
     "text": [
      "Name: Rishabh \n",
      "Age: 21 \n",
      "Employye No: Google \n",
      "Company Name: 19998\n",
      "None\n"
     ]
    }
   ],
   "source": [
    "# Class is a blueprint and object is an instance of the class in Object Oriented Programming\n",
    "#Example\n",
    "\n",
    "class employee:\n",
    "    def __init__(self,name,age,company_name,employe_no):\n",
    "        self.name=name\n",
    "        self.age=age\n",
    "        self.en=employe_no\n",
    "        self.cn=company_name\n",
    "    def show(self):\n",
    "        return print(\"Name:\",self.name, \"\\nAge:\",self.age,\"\\nEmployye No:\",self.en,\"\\nCompany Name:\",self.cn)\n",
    "    \n",
    "a=employee(\"Rishabh\",21,19998,\"Google\")\n",
    "print(a.show())\n",
    "\n"
   ]
  },
  {
   "cell_type": "markdown",
   "id": "a0b530c1-7a4a-4514-a2a5-69209a4141fa",
   "metadata": {},
   "source": [
    "### 2. Name the four pillars of OOPs."
   ]
  },
  {
   "cell_type": "markdown",
   "id": "292273d8-4a66-48d0-b219-6a243ceff01e",
   "metadata": {},
   "source": [
    "#### The Four Pillars Of OOPs are:\n",
    "##### 1. Inheritance \n",
    "##### 2. Abstraction\n",
    "##### 3. Encapsulation\n",
    "##### 4. Polymorphism"
   ]
  },
  {
   "cell_type": "markdown",
   "id": "b15c61ea-b2b9-4f92-9eff-c6c393065c34",
   "metadata": {},
   "source": [
    "### 3. What is inheritance? Give an example for each type of inheritance."
   ]
  },
  {
   "cell_type": "markdown",
   "id": "a53a266e-c699-42e9-a9dc-f2703784dda2",
   "metadata": {},
   "source": [
    "#### Inheritance is the property by which the derived class (child class) acquires the properties of the base class (parent class).\n",
    "#### Types of Inheritance:\n",
    "##### 1. Single Inheritance - In this type of inheritance the single derived class acquires the properties of base class.\n",
    "##### 2. Multiple Inheritance - In this type Of Inheritance A derived class is derived from multiple base classes.\n",
    "##### 3. Multilevel Inheritance - In this type of inheritance a class say C is derived from a derived class say B which is derived from a base class A.\n",
    "##### 5. Hierarchical Inheritance - In this type of inheritance two or more classes are derived from a single base class.\n",
    "##### 6. Hybrid Inheritance - In this type of inheritance, it is a combination of two or more inheritance.\n",
    "\n",
    "#### Examples Are Below"
   ]
  },
  {
   "cell_type": "code",
   "execution_count": 22,
   "id": "b66ee924-3eec-421a-940f-83932fbee637",
   "metadata": {},
   "outputs": [
    {
     "name": "stdout",
     "output_type": "stream",
     "text": [
      "Functions In Derived Class  Call:\n",
      "Base Class Function\n",
      "Derived Class Function\n"
     ]
    }
   ],
   "source": [
    "# single Inheritance\n",
    "class A:\n",
    "    def show(self):\n",
    "        print(\"Base Class Function\")\n",
    "class B(A):\n",
    "    def show1(self):\n",
    "        print(\"Derived Class Function\")\n",
    "        \n",
    "z=B() #Object of class B is being created\n",
    "print(\"Functions In Derived Class  Call:\")\n",
    "z.show()\n",
    "z.show1()\n",
    "\n",
    "\n",
    "\n",
    "\n",
    "    "
   ]
  },
  {
   "cell_type": "code",
   "execution_count": 24,
   "id": "11a88f58-4369-4d88-9ccf-0043c850069a",
   "metadata": {},
   "outputs": [
    {
     "name": "stdout",
     "output_type": "stream",
     "text": [
      "Functions in Derived class are called :\n",
      "Base Class Function\n",
      "Derived Class 1\n",
      "Derived Class 2\n"
     ]
    }
   ],
   "source": [
    "#Multilevel Inheritance\n",
    "\n",
    "class A:\n",
    "    def show(self):\n",
    "        print(\"Base Class Function\")\n",
    "class B(A):\n",
    "    def show1(self):\n",
    "        print(\"Derived Class 1\")\n",
    "class C(B):\n",
    "    def show2(self):\n",
    "        print(\"Derived Class 2\")\n",
    "        \n",
    "z=C()   #Object of class C is being created\n",
    "print(\"Functions in Derived class are called :\")\n",
    "z.show()\n",
    "z.show1()\n",
    "z.show2()\n"
   ]
  },
  {
   "cell_type": "code",
   "execution_count": 25,
   "id": "2e4e2bbc-947e-459a-b3ea-eb634ed437dc",
   "metadata": {},
   "outputs": [
    {
     "name": "stdout",
     "output_type": "stream",
     "text": [
      "Functions in Derived class are called :\n",
      "Base Class 1 Function\n",
      "Base class 2 Function \n",
      "Derieved Class From Two Base Class\n"
     ]
    }
   ],
   "source": [
    "#Multiple Inheritance\n",
    "\n",
    "class A:\n",
    "    def show(self):\n",
    "        print(\"Base Class 1 Function\")\n",
    "class B:\n",
    "    def show1(self):\n",
    "        print(\"Base class 2 Function \")\n",
    "class C(A,B):\n",
    "    def show2(self):\n",
    "        print(\"Derieved Class From Two Base Class\")\n",
    "        \n",
    "z=C()  #Object of class C is being created\n",
    "print(\"Functions in Derived class are called :\")\n",
    "z.show()\n",
    "z.show1()\n",
    "z.show2()\n"
   ]
  },
  {
   "cell_type": "code",
   "execution_count": 27,
   "id": "447b3858-937a-4db1-878c-46fc2eef53ae",
   "metadata": {},
   "outputs": [
    {
     "name": "stdout",
     "output_type": "stream",
     "text": [
      "Functions in Derived class 1 are called :\n",
      "Base Class 1 Function\n",
      "Derieved Class 1 From Base class\n",
      "Functions in Derived class 2 are called :\n",
      "Base Class 1 Function\n",
      "Derieved Class 2 From base class\n"
     ]
    }
   ],
   "source": [
    "#Hierarchical Inheritance\n",
    "\n",
    "class A:\n",
    "    def show(self):\n",
    "        print(\"Base Class 1 Function\")\n",
    "class B(A):\n",
    "    def show1(self):\n",
    "        print(\"Derieved Class 1 From Base class\")\n",
    "class C(A):\n",
    "    def show2(self):\n",
    "        print(\"Derieved Class 2 From base class\")\n",
    " \n",
    "\n",
    "y=B() #Object Of Class b is being created\n",
    "print(\"Functions in Derived class 1 are called :\")\n",
    "y.show()\n",
    "y.show1()\n",
    "\n",
    "z=C()  #Object of class A is being created\n",
    "print(\"Functions in Derived class 2 are called :\")\n",
    "z.show()\n",
    "z.show2()\n"
   ]
  },
  {
   "cell_type": "code",
   "execution_count": 19,
   "id": "12d83e48-1bc3-4410-b642-f2a3730d5621",
   "metadata": {},
   "outputs": [
    {
     "name": "stdout",
     "output_type": "stream",
     "text": [
      "Base Class\n",
      "Derived Class 1\n",
      "Derived Class 2\n",
      "Derieved Class 3 From class C\n",
      "Base Class\n",
      "Derived Class 1\n",
      "Derived Class 2\n",
      "Derieved Class 4 From class C\n"
     ]
    }
   ],
   "source": [
    "#Hybrid Inheritance\n",
    "\n",
    "class A:\n",
    "    def show(self):\n",
    "        print(\"Base Class Function\")\n",
    "class B(A):\n",
    "    def show1(self):\n",
    "        print(\"Derived Class 1\")\n",
    "class C(B):\n",
    "    def show2(self):\n",
    "        print(\"Derived Class 2\")\n",
    "class D(C):\n",
    "    def show3(self):\n",
    "        print(\"Derieved Class 3 From class C\")\n",
    "class E(C):\n",
    "    def show4(self):\n",
    "        print(\"Derieved Class 4 From class C\")\n",
    " \n",
    "\n",
    "        \n",
    "    \n",
    "        \n",
    "z=D()   #Object of class D is being created\n",
    "z.show()\n",
    "z.show1()\n",
    "z.show2()\n",
    "z.show3()\n",
    "\n",
    "z=E() #Object Of Class E is being created\n",
    "z.show()\n",
    "z.show1()\n",
    "z.show2()\n",
    "z.show4()\n"
   ]
  },
  {
   "cell_type": "markdown",
   "id": "2c5857dd-180d-4f41-9176-13e2975c6770",
   "metadata": {},
   "source": [
    "#### 4. Explain why the __init__() function is used. Give a suitable example."
   ]
  },
  {
   "cell_type": "code",
   "execution_count": 40,
   "id": "37b5caae-658f-4cbc-aaff-2e3955a28634",
   "metadata": {},
   "outputs": [
    {
     "name": "stdout",
     "output_type": "stream",
     "text": [
      "Name: Rishabh Age: 21 Corse: Data Science Master\n",
      "None\n"
     ]
    }
   ],
   "source": [
    "#__init__() is constructor which make sure that the data passed while creating the object blongs to the object.\n",
    "\n",
    "class details:\n",
    "    def __init__(self,name,age,course):\n",
    "        self.name=name\n",
    "        self.age=age\n",
    "        self.course=course\n",
    "    def show(self):\n",
    "        return print(\"Name:\",self.name, \"Age:\",self.age,\"Corse:\",self.course)\n",
    "    \n",
    "a=details(\"Rishabh\",21,\"Data Science Master\")\n",
    "print(a.show())\n"
   ]
  },
  {
   "cell_type": "markdown",
   "id": "8df70daf-f069-4272-95b8-38dd907a986c",
   "metadata": {},
   "source": [
    "### 5.Why self is used in OOPs?\n",
    "##### Self is simply a refernce that make sure the class that the function belongs to that particular class and need to be binded with the class so it  can be implemented ,self is not a keyword so we can use any word replacing self. Self is used inside the parenthesis of function defination."
   ]
  },
  {
   "cell_type": "code",
   "execution_count": null,
   "id": "5b400715-3c8c-4ae4-8f4d-902a23c6d5d1",
   "metadata": {},
   "outputs": [],
   "source": []
  },
  {
   "cell_type": "code",
   "execution_count": null,
   "id": "3f610978-2376-4688-88e7-61ae325bd9cf",
   "metadata": {},
   "outputs": [],
   "source": []
  }
 ],
 "metadata": {
  "kernelspec": {
   "display_name": "Python 3 (ipykernel)",
   "language": "python",
   "name": "python3"
  },
  "language_info": {
   "codemirror_mode": {
    "name": "ipython",
    "version": 3
   },
   "file_extension": ".py",
   "mimetype": "text/x-python",
   "name": "python",
   "nbconvert_exporter": "python",
   "pygments_lexer": "ipython3",
   "version": "3.10.8"
  }
 },
 "nbformat": 4,
 "nbformat_minor": 5
}
