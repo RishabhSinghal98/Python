{
 "cells": [
  {
   "cell_type": "markdown",
   "id": "96551e2e-92ce-4bbe-b5dc-9df4b84c1e79",
   "metadata": {},
   "source": [
    "## Printing only numeric type from a list using Generating Function"
   ]
  },
  {
   "cell_type": "code",
   "execution_count": 20,
   "id": "174faa7a-b837-4961-b474-6e0a7d441051",
   "metadata": {},
   "outputs": [
    {
     "name": "stdout",
     "output_type": "stream",
     "text": [
      "1\n",
      "3\n",
      "4\n",
      "5\n",
      "8.9\n",
      "7.6\n"
     ]
    }
   ],
   "source": [
    "def only_numeric(l):\n",
    "    for i in l:\n",
    "        if type(i)==int or type(i)==float:\n",
    "            yield i\n",
    "a=[1,3,4,5,8.9,7.6,\"Rishabh\",True,\"hell\"]\n",
    "only_numeric(a)\n",
    "\n",
    "for j in only_numeric(a):\n",
    "    print(j)"
   ]
  },
  {
   "cell_type": "markdown",
   "id": "aa33754b-b3f8-43d5-9c75-b3cf26ca4586",
   "metadata": {},
   "source": [
    "## Prime Number using Generating Function"
   ]
  },
  {
   "cell_type": "markdown",
   "id": "460d82fc-3334-43d4-856e-31e0e0284a03",
   "metadata": {},
   "source": [
    "def prime(n):\n",
    "    if n<=1000:\n",
    "        for j in range(2,n):\n",
    "            c=1\n",
    "            for i in range(2,j):\n",
    "                if j%i==0:\n",
    "                    c=0\n",
    "                    break\n",
    "            if c==1:\n",
    "                yield j\n",
    "    else:\n",
    "        print(\"Range above 1000\")\n",
    "x=int(input(\"Enter Upto Which Number You Want The Range Of Prime Number\"))\n",
    "prime(x)\n",
    "for k in prime(x):\n",
    "    print(k)"
   ]
  }
 ],
 "metadata": {
  "kernelspec": {
   "display_name": "Python 3 (ipykernel)",
   "language": "python",
   "name": "python3"
  },
  "language_info": {
   "codemirror_mode": {
    "name": "ipython",
    "version": 3
   },
   "file_extension": ".py",
   "mimetype": "text/x-python",
   "name": "python",
   "nbconvert_exporter": "python",
   "pygments_lexer": "ipython3",
   "version": "3.10.8"
  }
 },
 "nbformat": 4,
 "nbformat_minor": 5
}
