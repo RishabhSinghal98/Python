{
 "cells": [
  {
   "cell_type": "markdown",
   "id": "fe2eff03-1c6b-4a7c-b176-51381ffb10a7",
   "metadata": {},
   "source": [
    "#### 1. Python program to sort the given list of tuples based on integer value using a lambda function.\n",
    "[('Sachin Tendulkar', 34357), ('Ricky Ponting', 27483), ('Jack Kallis', 25534), ('Virat Kohli', 24936)]"
   ]
  },
  {
   "cell_type": "code",
   "execution_count": 66,
   "id": "c55132e7-24ee-4385-940f-e3521fa43512",
   "metadata": {},
   "outputs": [
    {
     "name": "stdout",
     "output_type": "stream",
     "text": [
      "Sorted List Is =  [('Virat Kohli', 24936), ('Jack Kallis', 25534), ('Ricky Ponting', 27483), ('Sachin Tendulkar', 34357)]\n"
     ]
    }
   ],
   "source": [
    "q=[('Sachin Tendulkar', 34357), ('Ricky Ponting', 27483), ('Jack Kallis', 25534), ('Virat Kohli', 24936)]\n",
    "q.sort(key =lambda x:x[1])\n",
    "print(\"Sorted List Is = \",q)"
   ]
  },
  {
   "cell_type": "markdown",
   "id": "a4deaed4-0eca-49b1-aa48-58ff0985dfc2",
   "metadata": {},
   "source": [
    "#### 2. Python Program to find the squares of all the numbers in the given list of integers using lambda and map functions."
   ]
  },
  {
   "cell_type": "code",
   "execution_count": 67,
   "id": "cef01c3b-81d1-4e91-90b6-eeb29733c24e",
   "metadata": {},
   "outputs": [
    {
     "name": "stdout",
     "output_type": "stream",
     "text": [
      "The Square of all the numbers of the given list are = [1, 4, 9, 16, 25, 36, 49, 64, 81, 100]\n"
     ]
    }
   ],
   "source": [
    "a=[1, 2, 3, 4, 5, 6, 7, 8, 9, 10]\n",
    "b=list(map(lambda x: x**2, a))\n",
    "print(\"The Square of all the numbers of the given list are =\",b)"
   ]
  },
  {
   "cell_type": "markdown",
   "id": "606b4ba2-f3f8-4ac7-af06-23d62ccbea1d",
   "metadata": {},
   "source": [
    "####  3. Python program to convert the given list of integers into a tuple of strings. Use map and lambda functions\n",
    "##### Given String: [1, 2, 3, 4, 5, 6, 7, 8, 9, 10]\n",
    "##### Expected output: ('1', '2', '3', '4', '5', '6', '7', '8', '9', '10')"
   ]
  },
  {
   "cell_type": "code",
   "execution_count": 68,
   "id": "666c6d1f-f29f-45a7-af4b-3f45f0d3699e",
   "metadata": {},
   "outputs": [
    {
     "name": "stdout",
     "output_type": "stream",
     "text": [
      "('1', '2', '3', '4', '5', '6', '7', '8', '9', '10')\n"
     ]
    }
   ],
   "source": [
    "z=[1, 2, 3, 4, 5, 6, 7, 8, 9, 10]\n",
    "st=tuple(map(lambda x :str(x),z))\n",
    "print(st)"
   ]
  },
  {
   "cell_type": "markdown",
   "id": "39389b19-d746-4af3-82cf-2a9e7f419963",
   "metadata": {},
   "source": [
    "#### 4. Python program using reduce function to compute the product of a list containing numbers from 1 to 25."
   ]
  },
  {
   "cell_type": "code",
   "execution_count": 57,
   "id": "8bfeba34-481e-47f9-994a-9c160ea7f166",
   "metadata": {},
   "outputs": [
    {
     "name": "stdout",
     "output_type": "stream",
     "text": [
      "The Product is = 15511210043330985984000000\n",
      "The Product is = 15511210043330985984000000\n"
     ]
    }
   ],
   "source": [
    "from functools import reduce\n",
    "lst=[1,2,3,4,5,6,7,8,9,10,11,12,13,14,15,16,17,18,19,20,21,22,23,24,25]\n",
    "a=[]\n",
    "\n",
    "for j in range(1,26):    #Creating A lsit (Second Method)\n",
    "    a.append(j)\n",
    "\n",
    "b=reduce(lambda x,y:x*y, lst)\n",
    "c=reduce(lambda x,y:x*y, a)\n",
    "\n",
    "print(\"The Product is =\",b)\n",
    "print(f\"The Product is = {c}\")"
   ]
  },
  {
   "cell_type": "markdown",
   "id": "c16ee182-8cea-40a4-a956-a4deaa33ed9f",
   "metadata": {},
   "source": [
    "#### 5. Python program to filter the numbers in a given list that are divisible by 2 and 3 using the filter function.\n",
    "[2, 3, 6, 9, 27, 60, 90, 120, 55, 46]"
   ]
  },
  {
   "cell_type": "code",
   "execution_count": 58,
   "id": "59028692-d163-4455-a598-481bbcc34e07",
   "metadata": {},
   "outputs": [
    {
     "name": "stdout",
     "output_type": "stream",
     "text": [
      "The Numbers After Filteration is =  [2, 3, 6, 9, 27, 60, 90, 120, 46]\n"
     ]
    }
   ],
   "source": [
    "lst=[2, 3, 6, 9, 27, 60, 90, 120, 55, 46]\n",
    "z=list(filter(lambda x: x%2==0 or x%3==0, lst))\n",
    "print(\"The Numbers After Filteration is = \",z)"
   ]
  },
  {
   "cell_type": "markdown",
   "id": "ffd9487e-bbb8-47da-a6cd-cb3cfd3f5af8",
   "metadata": {},
   "source": [
    "#### 6. Python program to find palindromes in the given list of strings using lambda and filter function.\n",
    "['python', 'php', 'aba', 'radar', 'level']"
   ]
  },
  {
   "cell_type": "code",
   "execution_count": 60,
   "id": "aca215f6-066b-4181-8852-e1a87706e570",
   "metadata": {},
   "outputs": [
    {
     "name": "stdout",
     "output_type": "stream",
     "text": [
      "The Palindrome Strings are as = ['php', 'aba', 'radar', 'level']\n",
      "The Palindrome Strings are as = ['php', 'aba', 'radar', 'level']\n"
     ]
    }
   ],
   "source": [
    "lst1=['python', 'php', 'aba', 'radar', 'level']\n",
    "var=list(filter(lambda x: x[::]==x[::-1] , lst1))\n",
    "print(f\"The Palindrome Strings are as = {var}\")\n",
    "# 2nd Method\n",
    "v=list(filter(lambda x: (x == \"\".join(reversed(x))), lst1))\n",
    "print(\"The Palindrome Strings are as =\",v)"
   ]
  },
  {
   "cell_type": "code",
   "execution_count": null,
   "id": "22d235b8-5891-41c7-ba42-d059aebae305",
   "metadata": {},
   "outputs": [],
   "source": []
  }
 ],
 "metadata": {
  "kernelspec": {
   "display_name": "Python 3 (ipykernel)",
   "language": "python",
   "name": "python3"
  },
  "language_info": {
   "codemirror_mode": {
    "name": "ipython",
    "version": 3
   },
   "file_extension": ".py",
   "mimetype": "text/x-python",
   "name": "python",
   "nbconvert_exporter": "python",
   "pygments_lexer": "ipython3",
   "version": "3.10.8"
  }
 },
 "nbformat": 4,
 "nbformat_minor": 5
}
