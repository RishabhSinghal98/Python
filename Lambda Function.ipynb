{
 "cells": [
  {
   "cell_type": "markdown",
   "id": "019fcf15-df8e-4719-a664-9d003a80f8bc",
   "metadata": {},
   "source": [
    "#### lambda Function for maximum of two numbers"
   ]
  },
  {
   "cell_type": "code",
   "execution_count": 2,
   "id": "a699d418-e222-402f-aae2-ca43c2260772",
   "metadata": {},
   "outputs": [
    {
     "name": "stdout",
     "output_type": "stream",
     "text": [
      "5\n"
     ]
    }
   ],
   "source": [
    "max= lambda a,b: a if a>b else b\n",
    "c=max(3,5)\n",
    "print(c)"
   ]
  },
  {
   "cell_type": "markdown",
   "id": "9d2f2539-e6df-4797-8dfa-47f288b86369",
   "metadata": {},
   "source": [
    "#### Lambda Function To Calculate Length Of A string\n"
   ]
  },
  {
   "cell_type": "code",
   "execution_count": 3,
   "id": "aee8a040-40e0-402b-87ff-508219c51afd",
   "metadata": {},
   "outputs": [
    {
     "name": "stdout",
     "output_type": "stream",
     "text": [
      "7\n"
     ]
    }
   ],
   "source": [
    "a=lambda s: len(s)\n",
    "s=a(\"Rishabh\")\n",
    "print(s)\n"
   ]
  },
  {
   "cell_type": "markdown",
   "id": "a40e4c57-24fb-4c60-ab1a-e5a36aabcf7e",
   "metadata": {},
   "source": [
    "#### Lambda function Two Add,Subtract ,Divide and Multiply two Numbers"
   ]
  },
  {
   "cell_type": "code",
   "execution_count": 20,
   "id": "65807d33-c90b-4058-915d-8d09fb656c74",
   "metadata": {},
   "outputs": [
    {
     "name": "stdin",
     "output_type": "stream",
     "text": [
      "Enter A Number 6\n",
      "Enter Another Number 7\n"
     ]
    },
    {
     "name": "stdout",
     "output_type": "stream",
     "text": [
      "Addition, Division, Multiplication= (13, 6, 42)\n"
     ]
    }
   ],
   "source": [
    "sum=lambda a,b:(a+b,a%b,a*b)\n",
    "x=int(input(\"Enter A Number\"))\n",
    "y=int(input(\"Enter Another Number\"))\n",
    "add=sum(x,y)\n",
    "print(\"Addition,\",\"Division,\",\"Multiplication=\",add)"
   ]
  },
  {
   "cell_type": "markdown",
   "id": "159ba5d7-27b9-4ad8-bd3e-8a59b7722386",
   "metadata": {},
   "source": [
    "#### Lambda Function To Convert Celcius To Fahrenheit"
   ]
  },
  {
   "cell_type": "code",
   "execution_count": 19,
   "id": "07cc6f50-b37f-4759-803b-5bbc76674f33",
   "metadata": {},
   "outputs": [
    {
     "name": "stdin",
     "output_type": "stream",
     "text": [
      "Enter Temperature In Celcius 34\n"
     ]
    },
    {
     "name": "stdout",
     "output_type": "stream",
     "text": [
      "Temperature In Fahrenheit is = 93.2\n"
     ]
    }
   ],
   "source": [
    "x=int(input(\"Enter Temperature In Celcius\"))\n",
    "a=lambda x: (9/5)*x+32\n",
    "print(f\"Temperature In Fahrenheit is = {a(x)}\")"
   ]
  },
  {
   "cell_type": "code",
   "execution_count": null,
   "id": "3cfa9609-1a3e-419a-b7df-e069ddfb33a4",
   "metadata": {},
   "outputs": [],
   "source": []
  }
 ],
 "metadata": {
  "kernelspec": {
   "display_name": "Python 3 (ipykernel)",
   "language": "python",
   "name": "python3"
  },
  "language_info": {
   "codemirror_mode": {
    "name": "ipython",
    "version": 3
   },
   "file_extension": ".py",
   "mimetype": "text/x-python",
   "name": "python",
   "nbconvert_exporter": "python",
   "pygments_lexer": "ipython3",
   "version": "3.10.8"
  }
 },
 "nbformat": 4,
 "nbformat_minor": 5
}
