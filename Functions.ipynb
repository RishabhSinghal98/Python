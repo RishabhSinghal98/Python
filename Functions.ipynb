{
 "cells": [
  {
   "cell_type": "markdown",
   "id": "75826f98-a078-4ab4-a39c-83f1e0fb5c3b",
   "metadata": {},
   "source": [
    "#### Which keyword is used to create a function? Create a function to return a list of odd numbers in the range of 1 to 25.\n"
   ]
  },
  {
   "cell_type": "code",
   "execution_count": null,
   "id": "34899cd4-9c8c-495a-a1e9-e062d18a8057",
   "metadata": {},
   "outputs": [],
   "source": [
    "#def keyword is used to create a function in python\n",
    "\n",
    "def odd():\n",
    "    l=[]\n",
    "    for i in range(25):\n",
    "        if i%2!=0:\n",
    "            l.append(i)\n",
    "    return l\n",
    "\n",
    "odd()"
   ]
  },
  {
   "cell_type": "markdown",
   "id": "1c95d458-f587-459c-8d4b-9a001444a63e",
   "metadata": {},
   "source": [
    "#### Why *args and **kwargs is used in some functions? Create a function each for *args and **kwargs to demonstrate their use."
   ]
  },
  {
   "cell_type": "code",
   "execution_count": 3,
   "id": "bfa5fec5-5c53-4dde-a0c8-6931765c2039",
   "metadata": {},
   "outputs": [
    {
     "data": {
      "text/plain": [
       "{'a': 7, 'b': 8.7, 'c': 'hello', 'd': True}"
      ]
     },
     "execution_count": 3,
     "metadata": {},
     "output_type": "execute_result"
    }
   ],
   "source": [
    "\"\"\"*args are to used to take multiple arguments in function defination.\n",
    "**kwargs are to used to take argument in the form of a pair of key and value in function defination and return a dictionary.\n",
    "\n",
    "Demonstrating the use of *args\"\"\"\n",
    "\n",
    "def multiple(*args):\n",
    "    return args\n",
    "\n",
    "multiple(1,3,4.5,True,\"Hello\")\n",
    "\n",
    "# Demonstrating the use of **kwargs\n",
    "\n",
    "def key_value(**kwargs):\n",
    "    return kwargs\n",
    "\n",
    "key_value(a=7,b=8.7,c=\"hello\",d=True)\n",
    "\n"
   ]
  },
  {
   "cell_type": "markdown",
   "id": "f45bcdf1-af32-4cfc-85f9-4c9dc4952ae7",
   "metadata": {},
   "source": [
    "### What is a generator function in python? Why yield keyword is used? Give an example of a generator function."
   ]
  },
  {
   "cell_type": "code",
   "execution_count": 4,
   "id": "c40a7804-9c65-4a53-99b6-6f66f775d17d",
   "metadata": {},
   "outputs": [
    {
     "name": "stdout",
     "output_type": "stream",
     "text": [
      "1\n",
      "3\n",
      "4\n",
      "5\n",
      "8.9\n",
      "7.6\n"
     ]
    }
   ],
   "source": [
    "\"\"\" Generator function are function which behaves like a iterator and dosn't occupy too much memory space ,it uses yield keyword to return the output.\n",
    "values are obtained by traversing using a for loop. example of generating funtion is range().\n",
    "\n",
    "Example of Generating Function\"\"\"\n",
    "\n",
    "def only_numeric(l):\n",
    "    for i in l:\n",
    "        if type(i)==int or type(i)==float:\n",
    "            yield i\n",
    "a=[1,3,4,5,8.9,7.6,\"Rishabh\",True,\"hell\"]\n",
    "only_numeric(a)\n",
    "\n",
    "for j in only_numeric(a):\n",
    "    print(j)\n",
    "\n",
    "\n",
    "\n"
   ]
  },
  {
   "cell_type": "markdown",
   "id": "b15cbbca-0c4d-4db3-9940-b44d97f2447a",
   "metadata": {},
   "source": [
    "#### Create a generator function for prime numbers less than 1000. "
   ]
  },
  {
   "cell_type": "code",
   "execution_count": 5,
   "id": "901fe60c-2b0d-467d-b483-c3f144b25857",
   "metadata": {},
   "outputs": [
    {
     "name": "stdin",
     "output_type": "stream",
     "text": [
      "Enter Upto Which Number You Want The Range Of Prime Number 19\n"
     ]
    },
    {
     "name": "stdout",
     "output_type": "stream",
     "text": [
      "2\n",
      "3\n",
      "5\n",
      "7\n",
      "11\n",
      "13\n",
      "17\n"
     ]
    }
   ],
   "source": [
    "def prime(n):\n",
    "    if n<=1000:\n",
    "        for j in range(2,n):\n",
    "            c=1\n",
    "            for i in range(2,j):\n",
    "                if j%i==0:\n",
    "                    c=0\n",
    "                    break\n",
    "            if c==1:\n",
    "                yield j\n",
    "    else:\n",
    "        print(\"Range above 1000\")\n",
    "x=int(input(\"Enter Upto Which Number You Want The Range Of Prime Number\"))\n",
    "prime(x)\n",
    "for k in prime(x):\n",
    "    print(k)"
   ]
  },
  {
   "cell_type": "code",
   "execution_count": null,
   "id": "7b96b5ee-ebd7-42c1-a50d-370d69789fad",
   "metadata": {},
   "outputs": [],
   "source": []
  }
 ],
 "metadata": {
  "kernelspec": {
   "display_name": "Python 3 (ipykernel)",
   "language": "python",
   "name": "python3"
  },
  "language_info": {
   "codemirror_mode": {
    "name": "ipython",
    "version": 3
   },
   "file_extension": ".py",
   "mimetype": "text/x-python",
   "name": "python",
   "nbconvert_exporter": "python",
   "pygments_lexer": "ipython3",
   "version": "3.10.8"
  }
 },
 "nbformat": 4,
 "nbformat_minor": 5
}
